{
 "cells": [
  {
   "cell_type": "markdown",
   "metadata": {},
   "source": [
    "<center>\n",
    "    <img src=\"https://cf-courses-data.s3.us.cloud-object-storage.appdomain.cloud/IBMDeveloperSkillsNetwork-DS0105EN-SkillsNetwork/labs/Module2/images/SN_web_lightmode.png\" width=\"300\" alt=\"cognitiveclass.ai logo\">\n",
    "</center>\n"
   ]
  },
  {
   "cell_type": "markdown",
   "metadata": {},
   "source": [
    "# Hands-on Lab: Create your Jupyter Notebook\n"
   ]
  },
  {
   "cell_type": "markdown",
   "metadata": {},
   "source": [
    "#### Add your code below following the instructions given in the course\n"
   ]
  },
  {
   "cell_type": "markdown",
   "metadata": {},
   "source": [
    "# <b>Final Proyect<b>\n",
    "## Module 2"
   ]
  },
  {
   "cell_type": "markdown",
   "metadata": {},
   "source": [
    "# Introduction\n",
    "In this jupyter notebook I will test basic skills to use it."
   ]
  },
  {
   "cell_type": "markdown",
   "metadata": {},
   "source": [
    "# <b>Languages in data science<b>\n",
    "* Python\n",
    "* R\n",
    "* SQL\n",
    "* Julia"
   ]
  },
  {
   "cell_type": "markdown",
   "metadata": {},
   "source": [
    "# <b>Data science libraries<b>\n",
    "## For manipulate and analisis data\n",
    "* Pandas\n",
    "* NumPy\n",
    "## To visualize data\n",
    "* Matplotlib"
   ]
  },
  {
   "cell_type": "markdown",
   "metadata": {},
   "source": [
    "# <b>Data Science tools<b>\n",
    "## Tools\n",
    "* Jupyter Notebook\n",
    "* SQL"
   ]
  },
  {
   "cell_type": "markdown",
   "metadata": {},
   "source": [
    "# Examples of Arithmetic Expressions\n",
    "## 1. addition and subtraction\n",
    "```python\n",
    "a = 5 + 5  # Suma: 10\n",
    "b = 10 - 7  # Resta: 3"
   ]
  },
  {
   "cell_type": "code",
   "execution_count": 267,
   "metadata": {},
   "outputs": [
    {
     "name": "stdout",
     "output_type": "stream",
     "text": [
      "Addition: 7\n",
      "Multiply: 10\n"
     ]
    }
   ],
   "source": [
    "#numbers\n",
    "a=2\n",
    "b=5\n",
    "#addition\n",
    "c= a+b\n",
    "#multiply\n",
    "d= a*b\n",
    "print(\"Addition:\", c)\n",
    "print(\"Multiply:\", d)"
   ]
  },
  {
   "cell_type": "code",
   "execution_count": 268,
   "metadata": {},
   "outputs": [
    {
     "name": "stdout",
     "output_type": "stream",
     "text": [
      "Hours: 2.2666666666666666\n",
      "136 minutes its equal to 2.2666666666666666 hours\n"
     ]
    }
   ],
   "source": [
    "# Minutes to hours\n",
    "minutes=136\n",
    "hours= minutes/60\n",
    "print(\"Hours:\", hours)\n",
    "print(f\"{minutes} minutes its equal to {hours} hours\")"
   ]
  },
  {
   "cell_type": "code",
   "execution_count": 286,
   "metadata": {},
   "outputs": [
    {
     "name": "stdout",
     "output_type": "stream",
     "text": [
      "My objectives:\n",
      "1. objective1\n",
      "2. objective2\n",
      "3. objective3\n",
      "4. objective4\n"
     ]
    }
   ],
   "source": [
    "# List of objectives\n",
    "\n",
    "objectives = [\n",
    "    \"objective1\",\n",
    "    \"objective2\",\n",
    "    \"objective3\",\n",
    "    \"objective4\",\n",
    "]\n",
    "\n",
    "# show objectives\n",
    "print(\"My objectives:\")\n",
    "for i, objetive in enumerate(objectives, start=1):\n",
    "    print(f\"{i}. {objetive}\")\n"
   ]
  },
  {
   "cell_type": "markdown",
   "metadata": {},
   "source": [
    "## Made by alan bracamonte"
   ]
  },
  {
   "cell_type": "markdown",
   "metadata": {},
   "source": [
    "Copyright ©2024 IBM Corporation. All rights reserved.\n"
   ]
  }
 ],
 "metadata": {
  "kernelspec": {
   "display_name": "Python 3 (ipykernel)",
   "language": "python",
   "name": "python3"
  },
  "language_info": {
   "codemirror_mode": {
    "name": "ipython",
    "version": 3
   },
   "file_extension": ".py",
   "mimetype": "text/x-python",
   "name": "python",
   "nbconvert_exporter": "python",
   "pygments_lexer": "ipython3",
   "version": "3.12.4"
  },
  "prev_pub_hash": "9e1985db9844176462bd1d5863048c9f3d17404bbc6a648be9084b0c42b29347"
 },
 "nbformat": 4,
 "nbformat_minor": 4
}
